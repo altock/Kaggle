{
 "cells": [
  {
   "cell_type": "code",
   "execution_count": 110,
   "metadata": {
    "collapsed": false
   },
   "outputs": [],
   "source": [
    "import numpy as np\n",
    "import pandas as pd\n",
    "import csv\n",
    "from sklearn import preprocessing, svm\n",
    "from sklearn.ensemble import RandomForestClassifier, VotingClassifier,AdaBoostClassifier,GradientBoostingClassifier, BaggingClassifier\n",
    "from sklearn.linear_model import LogisticRegression, LogisticRegressionCV, LinearRegression\n",
    "from sklearn.model_selection import cross_val_score, GridSearchCV, train_test_split, KFold\n",
    "\n",
    "from sklearn.metrics import classification_report\n",
    "from sklearn.model_selection import learning_curve\n",
    "\n",
    "import matplotlib.pyplot as plt\n",
    "from matplotlib import style\n",
    "style.use('ggplot')\n",
    "%matplotlib inline"
   ]
  },
  {
   "cell_type": "code",
   "execution_count": 115,
   "metadata": {
    "collapsed": false
   },
   "outputs": [],
   "source": [
    "df_train = pd.read_csv('data/train.csv')\n",
    "df_test = pd.read_csv('data/test.csv')"
   ]
  },
  {
   "cell_type": "code",
   "execution_count": null,
   "metadata": {
    "collapsed": false,
    "scrolled": true
   },
   "outputs": [],
   "source": []
  },
  {
   "cell_type": "code",
   "execution_count": 3,
   "metadata": {
    "collapsed": true
   },
   "outputs": [],
   "source": [
    "def handle_non_numerical_data(df): \n",
    "    columns = df.columns.values\n",
    "    for column in columns:\n",
    "        text_digit_vals = {}\n",
    "        def convert_to_int(val):\n",
    "            return text_digit_vals[val]\n",
    "\n",
    "        if df[column].dtype != np.int64 and df[column].dtype != np.float64:\n",
    "            column_contents = df[column].values.tolist()\n",
    "            unique_elements = set(column_contents)\n",
    "\n",
    "            x = 0\n",
    "            for unique in unique_elements:\n",
    "                if unique not in text_digit_vals:\n",
    "                    text_digit_vals[unique] = x\n",
    "                    x += 1\n",
    "\n",
    "            df[column] = list(map(convert_to_int,df[column] ))\n",
    "    \n",
    "    return df"
   ]
  },
  {
   "cell_type": "code",
   "execution_count": 37,
   "metadata": {
    "collapsed": false
   },
   "outputs": [],
   "source": [
    "def process_data(df):\n",
    "    # Deal with empty\n",
    "    df = process_embarked(df)\n",
    "    df = process_fare(df)\n",
    "    df = process_cabin(df)\n",
    "    \n",
    "    df = process_age(df)\n",
    "    df.drop(['Name', 'PassengerId'], 1, inplace=True)\n",
    "    df.convert_objects(convert_numeric=True)\n",
    "    \n",
    "    df.fillna(0,inplace=True)\n",
    "    \n",
    "    df = handle_non_numerical_data(df)\n",
    "    return df\n",
    "\n",
    "# TODO: Classify best guess\n",
    "# All missing Embarked -> just make them embark from most common place  \n",
    "def process_embarked(df):\n",
    "    if len(df.Embarked[ df.Embarked.isnull() ]) > 0:\n",
    "        df.Embarked[ df.Embarked.isnull() ] = df.Embarked.dropna().mode().values\n",
    "    return df\n",
    "        \n",
    "# All the missing Fares -> assume median of their respective class\n",
    "def process_fare(df):\n",
    "    if len(df.Fare[ df.Fare.isnull() ]) == 0:\n",
    "        return df\n",
    "    median_fare = np.zeros(3)\n",
    "    for f in range(0,3):                                              # loop 0 to 2\n",
    "        median_fare[f] = df[ df.Pclass == f+1 ]['Fare'].dropna().median()\n",
    "    for f in range(0,3):                                              # loop 0 to 2\n",
    "        df.loc[ (df.Fare.isnull()) & (df.Pclass == f+1 ), 'Fare'] = median_fare[f]\n",
    "    return df\n",
    "    \n",
    "# Assume room number on floor does not matter, change cabin to just be the floor\n",
    "def process_cabin(df):\n",
    "    df.Cabin[ df.Cabin.notnull()] = df.Cabin[ df.Cabin.notnull()].str[0]\n",
    "\n",
    "        \n",
    "    # All the missing Cabins -> assume median of their respective class\n",
    "    if len(df.Cabin[ df.Cabin.isnull() ]) == 0:\n",
    "        return df\n",
    "    \n",
    "    median_fare = [\"\",\"\",\"\"]\n",
    "    for f in range(0,3):                                              # loop 0 to 2\n",
    "        z = df[ df.Pclass == f+1 ]['Cabin'].dropna().value_counts().index.values[0]#.median().astype(str)\n",
    "        median_fare[f] = z\n",
    "    for f in range(0,3):                                              # loop 0 to 2\n",
    "        df.loc[ (df.Cabin.isnull()) & (df.Pclass == f+1 ), 'Cabin'] = median_fare[f]\n",
    "    return df\n",
    "\n",
    "\n",
    "def process_age(df):\n",
    "    age_df = df[df.Age.notnull()]\n",
    "    non_age_df = df[df.Age.isnull()]\n",
    "    age_df = handle_non_numerical_data(age_df)\n",
    "    non_age_df = handle_non_numerical_data(non_age_df)\n",
    "    if 'Survived' in df.columns:\n",
    "        X_train = np.matrix(age_df.drop(['Age', 'Ticket', 'Name', 'PassengerId','Survived'], axis = 1))\n",
    "        y_train = np.array(age_df.Age)\n",
    "        X_test = np.matrix(non_age_df.drop(['Age','Ticket', 'Name', 'PassengerId', 'Survived'], axis = 1))\n",
    "    else:\n",
    "        X_train = np.matrix(age_df.drop(['Age', 'Ticket', 'Name', 'PassengerId'], axis = 1))\n",
    "        y_train = np.array(age_df.Age)\n",
    "        X_test = np.matrix(non_age_df.drop(['Age','Ticket', 'Name', 'PassengerId'], axis = 1))\n",
    "\n",
    "    clf = LinearRegression()\n",
    "    clf.fit(X_train, y_train)\n",
    "    y_pred = clf.predict(X_test)\n",
    "\n",
    "    non_age_df.Age = y_pred\n",
    "\n",
    "    df[df.Age.isnull()] = non_age_df\n",
    "\n",
    "    return df"
   ]
  },
  {
   "cell_type": "code",
   "execution_count": 118,
   "metadata": {
    "collapsed": false
   },
   "outputs": [
    {
     "name": "stderr",
     "output_type": "stream",
     "text": [
      "/home/altock/anaconda3/envs/py35/lib/python3.5/site-packages/ipykernel/__main__.py:20: SettingWithCopyWarning: \n",
      "A value is trying to be set on a copy of a slice from a DataFrame\n",
      "\n",
      "See the caveats in the documentation: http://pandas.pydata.org/pandas-docs/stable/indexing.html#indexing-view-versus-copy\n",
      "/home/altock/anaconda3/envs/py35/lib/python3.5/site-packages/ipykernel/__main__.py:36: SettingWithCopyWarning: \n",
      "A value is trying to be set on a copy of a slice from a DataFrame\n",
      "\n",
      "See the caveats in the documentation: http://pandas.pydata.org/pandas-docs/stable/indexing.html#indexing-view-versus-copy\n",
      "/home/altock/anaconda3/envs/py35/lib/python3.5/site-packages/ipykernel/__main__.py:18: SettingWithCopyWarning: \n",
      "A value is trying to be set on a copy of a slice from a DataFrame.\n",
      "Try using .loc[row_indexer,col_indexer] = value instead\n",
      "\n",
      "See the caveats in the documentation: http://pandas.pydata.org/pandas-docs/stable/indexing.html#indexing-view-versus-copy\n",
      "/home/altock/anaconda3/envs/py35/lib/python3.5/site-packages/pandas/core/generic.py:2701: SettingWithCopyWarning: \n",
      "A value is trying to be set on a copy of a slice from a DataFrame.\n",
      "Try using .loc[row_indexer,col_indexer] = value instead\n",
      "\n",
      "See the caveats in the documentation: http://pandas.pydata.org/pandas-docs/stable/indexing.html#indexing-view-versus-copy\n",
      "  self[name] = value\n",
      "/home/altock/anaconda3/envs/py35/lib/python3.5/site-packages/ipykernel/__main__.py:9: FutureWarning: convert_objects is deprecated.  Use the data-type specific converters pd.to_datetime, pd.to_timedelta and pd.to_numeric.\n"
     ]
    }
   ],
   "source": [
    "# TODO: JOIN THEM BOTH\n",
    "\n",
    "df_train = process_data(df_train)\n",
    "df_test = process_data(df_test)"
   ]
  },
  {
   "cell_type": "code",
   "execution_count": 119,
   "metadata": {
    "collapsed": false
   },
   "outputs": [],
   "source": [
    "def get_X(df):\n",
    "    X = np.array(df.astype(float))\n",
    "    X = preprocessing.scale(X, with_mean=False)\n",
    "    return X\n",
    "\n",
    "X_train = get_X(df_train.drop(['Survived'],axis=1))\n",
    "X_test = get_X(df_test)\n",
    "\n",
    "y_train = np.array(df_train['Survived'])"
   ]
  },
  {
   "cell_type": "code",
   "execution_count": 114,
   "metadata": {
    "collapsed": false
   },
   "outputs": [],
   "source": [
    "def write_predictions(clf, path, X_train, y_train, X_test):\n",
    "    clf.fit( X_train, y_train )\n",
    "    output = clf.predict(X_test)\n",
    "    output = pd.DataFrame(output)\n",
    "    output.index += 892\n",
    "    output.to_csv(path, header=['Survived'], index_label = 'PassengerId')\n",
    "    \n",
    "    print('Done.')"
   ]
  },
  {
   "cell_type": "code",
   "execution_count": 55,
   "metadata": {
    "collapsed": false
   },
   "outputs": [],
   "source": [
    "def validate(clf, X, y):\n",
    "    train_accuracy = 0.0\n",
    "    test_accuracy = 0.0\n",
    "    n = 10\n",
    "    for i in range(n):\n",
    "        X_train, X_test, y_train, y_test = train_test_split(X,y,test_size=0.2)\n",
    "        \n",
    "        clf.fit(X_train,y_train)\n",
    "\n",
    "\n",
    "        test_output = clf.predict( X_test).astype(int)\n",
    "        correct = 0\n",
    "        for j in range(len(y_test)):\n",
    "            prediction = test_output[j]\n",
    "            if prediction == y_test[j]:\n",
    "                correct += 1\n",
    "\n",
    "        test_predict = correct/len(y_test)\n",
    "        test_accuracy += test_predict\n",
    "    \n",
    "    \n",
    "        train_output = clf.predict( X_train).astype(int)\n",
    "        correct = 0\n",
    "        for j in range(len(y_train)):\n",
    "            prediction = train_output[j]\n",
    "            if prediction == y_train[j]:\n",
    "                correct += 1\n",
    "\n",
    "        train_predict = correct/len(y_train)\n",
    "        train_accuracy += train_predict\n",
    "    \n",
    "        print(\"train accuracy \" + str(i) +\":\", train_predict, \", test accuracy:\", test_predict)\n",
    "    test_accuracy /= n\n",
    "    train_accuracy /= n\n",
    "    print(\"train accuracy:\", train_accuracy, \", test accuracy:\", test_accuracy)\n",
    "    \n",
    "def learn_plot(clf, X, y):\n",
    "    train_sizes, train_scores, valid_scores = learning_curve(clf, X, y, cv=5)\n",
    "\n",
    "    train_scores = np.average(train_scores, axis = 1)\n",
    "    valid_scores = np.average(valid_scores, axis = 1)\n",
    "\n",
    "    plt.plot(train_sizes,train_scores, c='r', marker='o')\n",
    "    plt.plot(train_sizes,valid_scores, c='b', marker='o')\n",
    "    plt.show()"
   ]
  },
  {
   "cell_type": "code",
   "execution_count": 103,
   "metadata": {
    "collapsed": false
   },
   "outputs": [],
   "source": [
    "def get_prediction_new():\n",
    "    \n",
    "    # create the sub models\n",
    "    estimators = []\n",
    "#     model1 = LogisticRegressionCV()\n",
    "#     estimators.append(('logistic', model1))\n",
    "    \n",
    "    model3 = svm.SVC(C=2,  probability=True)\n",
    "    estimators.append(('svm rbf', model3))\n",
    "    model4 = svm.SVC(kernel='poly', probability=True)\n",
    "    estimators.append(('svm poly', model4))\n",
    "    forest = GradientBoostingClassifier(n_estimators=400)\n",
    "    \n",
    "    estimators.append((('grad_forest'),forest))\n",
    "\n",
    "    forest = RandomForestClassifier(n_estimators=1500,n_jobs=-1, max_features='auto')\n",
    "    \n",
    "    estimators.append((('forest'),forest))\n",
    "    \n",
    "    forest =RandomForestClassifier(n_estimators=1000,n_jobs=-1, criterion='entropy',max_depth=5, max_features='auto')\n",
    "    \n",
    "    estimators.append((('ent_forest'),forest))\n",
    "    \n",
    "#     clf = BaggingClassifier(neighbors.KNeighborsClassifier(n_jobs=-1))\n",
    "#     estimators.append(('KNN',clf))\n",
    "    # create the ensemble model\n",
    "    ensemble = VotingClassifier(estimators, voting=\"hard\")\n",
    "    \n",
    "\n",
    "    return ensemble"
   ]
  },
  {
   "cell_type": "code",
   "execution_count": null,
   "metadata": {
    "collapsed": false
   },
   "outputs": [],
   "source": []
  },
  {
   "cell_type": "code",
   "execution_count": 107,
   "metadata": {
    "collapsed": false
   },
   "outputs": [
    {
     "name": "stdout",
     "output_type": "stream",
     "text": [
      "0.822660222208\n",
      "[ 0.83240223  0.80898876  0.81460674  0.7752809   0.88202247]\n"
     ]
    }
   ],
   "source": [
    "clf = get_prediction_new()\n",
    "\n",
    "num_folds = 5\n",
    "\n",
    "kfold = KFold(n_splits=num_folds)\n",
    "results = cross_val_score(clf, X_train, y_train, cv=kfold)\n",
    "print(results.mean())\n",
    "print(results)"
   ]
  },
  {
   "cell_type": "code",
   "execution_count": 61,
   "metadata": {
    "collapsed": false
   },
   "outputs": [
    {
     "data": {
      "image/png": "[encoded data removed]",
      "text/plain": [
       "<matplotlib.figure.Figure at 0x7f8f7c11f278>"
      ]
     },
     "metadata": {},
     "output_type": "display_data"
    }
   ],
   "source": [
    "learn_plot(clf, X_train, y_train)"
   ]
  },
  {
   "cell_type": "code",
   "execution_count": 120,
   "metadata": {
    "collapsed": false
   },
   "outputs": [
    {
     "name": "stdout",
     "output_type": "stream",
     "text": [
      "Done.\n"
     ]
    }
   ],
   "source": [
    "write_predictions(clf, \"results/ensemble_preds_2.csv\", X_train, y_train, X_test)"
   ]
  },
  {
   "cell_type": "code",
   "execution_count": null,
   "metadata": {
    "collapsed": false
   },
   "outputs": [],
   "source": []
  },
  {
   "cell_type": "code",
   "execution_count": null,
   "metadata": {
    "collapsed": false
   },
   "outputs": [],
   "source": []
  },
  {
   "cell_type": "code",
   "execution_count": null,
   "metadata": {
    "collapsed": false
   },
   "outputs": [],
   "source": []
  },
  {
   "cell_type": "code",
   "execution_count": null,
   "metadata": {
    "collapsed": false
   },
   "outputs": [],
   "source": []
  },
  {
   "cell_type": "code",
   "execution_count": null,
   "metadata": {
    "collapsed": false
   },
   "outputs": [],
   "source": [
    "\n"
   ]
  },
  {
   "cell_type": "code",
   "execution_count": null,
   "metadata": {
    "collapsed": false
   },
   "outputs": [],
   "source": []
  },
  {
   "cell_type": "code",
   "execution_count": null,
   "metadata": {
    "collapsed": false
   },
   "outputs": [],
   "source": []
  },
  {
   "cell_type": "code",
   "execution_count": null,
   "metadata": {
    "collapsed": false
   },
   "outputs": [],
   "source": []
  },
  {
   "cell_type": "code",
   "execution_count": null,
   "metadata": {
    "collapsed": false
   },
   "outputs": [],
   "source": []
  },
  {
   "cell_type": "code",
   "execution_count": null,
   "metadata": {
    "collapsed": false
   },
   "outputs": [],
   "source": []
  },
  {
   "cell_type": "code",
   "execution_count": 53,
   "metadata": {
    "collapsed": false
   },
   "outputs": [],
   "source": []
  },
  {
   "cell_type": "code",
   "execution_count": null,
   "metadata": {
    "collapsed": false
   },
   "outputs": [],
   "source": []
  },
  {
   "cell_type": "code",
   "execution_count": 92,
   "metadata": {
    "collapsed": false
   },
   "outputs": [],
   "source": []
  },
  {
   "cell_type": "code",
   "execution_count": null,
   "metadata": {
    "collapsed": false
   },
   "outputs": [],
   "source": []
  },
  {
   "cell_type": "code",
   "execution_count": null,
   "metadata": {
    "collapsed": false
   },
   "outputs": [],
   "source": []
  },
  {
   "cell_type": "code",
   "execution_count": null,
   "metadata": {
    "collapsed": false
   },
   "outputs": [],
   "source": []
  },
  {
   "cell_type": "code",
   "execution_count": null,
   "metadata": {
    "collapsed": true
   },
   "outputs": [],
   "source": []
  }
 ],
 "metadata": {
  "anaconda-cloud": {},
  "kernelspec": {
   "display_name": "Python [py35]",
   "language": "python",
   "name": "Python [py35]"
  },
  "language_info": {
   "codemirror_mode": {
    "name": "ipython",
    "version": 3
   },
   "file_extension": ".py",
   "mimetype": "text/x-python",
   "name": "python",
   "nbconvert_exporter": "python",
   "pygments_lexer": "ipython3",
   "version": "3.5.2"
  }
 },
 "nbformat": 4,
 "nbformat_minor": 0
}
