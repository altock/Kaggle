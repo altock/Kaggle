{
 "cells": [
  {
   "cell_type": "code",
   "execution_count": 1,
   "metadata": {
    "collapsed": false
   },
   "outputs": [],
   "source": [
    "import numpy as np\n",
    "import pandas as pd\n",
    "from sklearn.preprocessing import OneHotEncoder\n",
    "from sklearn import preprocessing, neighbors, svm\n",
    "from sklearn.ensemble import RandomForestClassifier, VotingClassifier,AdaBoostClassifier,GradientBoostingClassifier, BaggingClassifier\n",
    "from sklearn.cluster import KMeans\n",
    "from scipy.stats import mode\n",
    "from sklearn.linear_model import LogisticRegression, LogisticRegressionCV\n",
    "import csv as csv\n",
    "from sklearn.model_selection import cross_val_score, GridSearchCV, train_test_split, KFold\n",
    "\n",
    "from sklearn.metrics import classification_report\n",
    "from sklearn.model_selection import learning_curve\n",
    "\n",
    "import matplotlib.pyplot as plt\n",
    "from matplotlib import style\n",
    "style.use('ggplot')\n",
    "%matplotlib inline\n",
    "# import warnings, random\n",
    "# from collections import Counter\n",
    "# from math import sqrt"
   ]
  },
  {
   "cell_type": "code",
   "execution_count": 2,
   "metadata": {
    "collapsed": false
   },
   "outputs": [
    {
     "data": {
      "text/html": [
       "<div>\n",
       "<table border=\"1\" class=\"dataframe\">\n",
       "  <thead>\n",
       "    <tr style=\"text-align: right;\">\n",
       "      <th></th>\n",
       "      <th>PassengerId</th>\n",
       "      <th>Survived</th>\n",
       "      <th>Pclass</th>\n",
       "      <th>Name</th>\n",
       "      <th>Sex</th>\n",
       "      <th>Age</th>\n",
       "      <th>SibSp</th>\n",
       "      <th>Parch</th>\n",
       "      <th>Ticket</th>\n",
       "      <th>Fare</th>\n",
       "      <th>Cabin</th>\n",
       "      <th>Embarked</th>\n",
       "    </tr>\n",
       "  </thead>\n",
       "  <tbody>\n",
       "    <tr>\n",
       "      <th>0</th>\n",
       "      <td>1</td>\n",
       "      <td>0</td>\n",
       "      <td>3</td>\n",
       "      <td>Braund, Mr. Owen Harris</td>\n",
       "      <td>male</td>\n",
       "      <td>22.0</td>\n",
       "      <td>1</td>\n",
       "      <td>0</td>\n",
       "      <td>A/5 21171</td>\n",
       "      <td>7.2500</td>\n",
       "      <td>NaN</td>\n",
       "      <td>S</td>\n",
       "    </tr>\n",
       "    <tr>\n",
       "      <th>1</th>\n",
       "      <td>2</td>\n",
       "      <td>1</td>\n",
       "      <td>1</td>\n",
       "      <td>Cumings, Mrs. John Bradley (Florence Briggs Th...</td>\n",
       "      <td>female</td>\n",
       "      <td>38.0</td>\n",
       "      <td>1</td>\n",
       "      <td>0</td>\n",
       "      <td>PC 17599</td>\n",
       "      <td>71.2833</td>\n",
       "      <td>C85</td>\n",
       "      <td>C</td>\n",
       "    </tr>\n",
       "    <tr>\n",
       "      <th>2</th>\n",
       "      <td>3</td>\n",
       "      <td>1</td>\n",
       "      <td>3</td>\n",
       "      <td>Heikkinen, Miss. Laina</td>\n",
       "      <td>female</td>\n",
       "      <td>26.0</td>\n",
       "      <td>0</td>\n",
       "      <td>0</td>\n",
       "      <td>STON/O2. 3101282</td>\n",
       "      <td>7.9250</td>\n",
       "      <td>NaN</td>\n",
       "      <td>S</td>\n",
       "    </tr>\n",
       "    <tr>\n",
       "      <th>3</th>\n",
       "      <td>4</td>\n",
       "      <td>1</td>\n",
       "      <td>1</td>\n",
       "      <td>Futrelle, Mrs. Jacques Heath (Lily May Peel)</td>\n",
       "      <td>female</td>\n",
       "      <td>35.0</td>\n",
       "      <td>1</td>\n",
       "      <td>0</td>\n",
       "      <td>113803</td>\n",
       "      <td>53.1000</td>\n",
       "      <td>C123</td>\n",
       "      <td>S</td>\n",
       "    </tr>\n",
       "    <tr>\n",
       "      <th>4</th>\n",
       "      <td>5</td>\n",
       "      <td>0</td>\n",
       "      <td>3</td>\n",
       "      <td>Allen, Mr. William Henry</td>\n",
       "      <td>male</td>\n",
       "      <td>35.0</td>\n",
       "      <td>0</td>\n",
       "      <td>0</td>\n",
       "      <td>373450</td>\n",
       "      <td>8.0500</td>\n",
       "      <td>NaN</td>\n",
       "      <td>S</td>\n",
       "    </tr>\n",
       "  </tbody>\n",
       "</table>\n",
       "</div>"
      ],
      "text/plain": [
       "   PassengerId  Survived  Pclass  \\\n",
       "0            1         0       3   \n",
       "1            2         1       1   \n",
       "2            3         1       3   \n",
       "3            4         1       1   \n",
       "4            5         0       3   \n",
       "\n",
       "                                                Name     Sex   Age  SibSp  \\\n",
       "0                            Braund, Mr. Owen Harris    male  22.0      1   \n",
       "1  Cumings, Mrs. John Bradley (Florence Briggs Th...  female  38.0      1   \n",
       "2                             Heikkinen, Miss. Laina  female  26.0      0   \n",
       "3       Futrelle, Mrs. Jacques Heath (Lily May Peel)  female  35.0      1   \n",
       "4                           Allen, Mr. William Henry    male  35.0      0   \n",
       "\n",
       "   Parch            Ticket     Fare Cabin Embarked  \n",
       "0      0         A/5 21171   7.2500   NaN        S  \n",
       "1      0          PC 17599  71.2833   C85        C  \n",
       "2      0  STON/O2. 3101282   7.9250   NaN        S  \n",
       "3      0            113803  53.1000  C123        S  \n",
       "4      0            373450   8.0500   NaN        S  "
      ]
     },
     "execution_count": 2,
     "metadata": {},
     "output_type": "execute_result"
    }
   ],
   "source": [
    "df = pd.read_csv('data/train.csv')\n",
    "df.head()"
   ]
  },
  {
   "cell_type": "code",
   "execution_count": 3,
   "metadata": {
    "collapsed": true
   },
   "outputs": [],
   "source": [
    "def handle_non_numerical_data(df): \n",
    "    columns = df.columns.values\n",
    "    for column in columns:\n",
    "        text_digit_vals = {}\n",
    "        def convert_to_int(val):\n",
    "            return text_digit_vals[val]\n",
    "\n",
    "        if df[column].dtype != np.int64 and df[column].dtype != np.float64:\n",
    "            column_contents = df[column].values.tolist()\n",
    "            unique_elements = set(column_contents)\n",
    "\n",
    "            x = 0\n",
    "            for unique in unique_elements:\n",
    "                if unique not in text_digit_vals:\n",
    "                    text_digit_vals[unique] = x\n",
    "                    x += 1\n",
    "\n",
    "            df[column] = list(map(convert_to_int,df[column] ))\n",
    "    \n",
    "    return df"
   ]
  },
  {
   "cell_type": "code",
   "execution_count": 4,
   "metadata": {
    "collapsed": false
   },
   "outputs": [
    {
     "name": "stderr",
     "output_type": "stream",
     "text": [
      "/home/altock/anaconda3/envs/py35/lib/python3.5/site-packages/ipykernel/__main__.py:5: SettingWithCopyWarning: \n",
      "A value is trying to be set on a copy of a slice from a DataFrame\n",
      "\n",
      "See the caveats in the documentation: http://pandas.pydata.org/pandas-docs/stable/indexing.html#indexing-view-versus-copy\n",
      "/home/altock/anaconda3/envs/py35/lib/python3.5/site-packages/ipykernel/__main__.py:22: SettingWithCopyWarning: \n",
      "A value is trying to be set on a copy of a slice from a DataFrame\n",
      "\n",
      "See the caveats in the documentation: http://pandas.pydata.org/pandas-docs/stable/indexing.html#indexing-view-versus-copy\n"
     ]
    }
   ],
   "source": [
    "# Deal with empty\n",
    "\n",
    "# All missing Embarked -> just make them embark from most common place\n",
    "if len(df.Embarked[ df.Embarked.isnull() ]) > 0:\n",
    "    df.Embarked[ df.Embarked.isnull() ] = df.Embarked.dropna().mode().values\n",
    "\n",
    "# All the ages with no data -> make the median of all Ages\n",
    "median_age = df['Age'].dropna().median()\n",
    "if len(df.Age[ df.Age.isnull() ]) > 0:\n",
    "    df.loc[ (df.Age.isnull()), 'Age'] = median_age\n",
    "\n",
    "\n",
    "# All the missing Fares -> assume median of their respective class\n",
    "if len(df.Fare[ df.Fare.isnull() ]) > 0:\n",
    "    median_fare = np.zeros(3)\n",
    "    for f in range(0,3):                                              # loop 0 to 2\n",
    "        median_fare[f] = df[ df.Pclass == f+1 ]['Fare'].dropna().median()\n",
    "    for f in range(0,3):                                              # loop 0 to 2\n",
    "        df.loc[ (df.Fare.isnull()) & (df.Pclass == f+1 ), 'Fare'] = median_fare[f]\n",
    "\n",
    "# Assume room number on floor does not matter, change cabin to just be the floor\n",
    "df.Cabin[ df.Cabin.notnull()] = df.Cabin[ df.Cabin.notnull()].str[0]\n",
    "\n",
    "        \n",
    "# All the missing Cabins -> assume median of their respective class\n",
    "if len(df.Cabin[ df.Cabin.isnull() ]) > 0:\n",
    "    median_fare = [\"\",\"\",\"\"]\n",
    "    for f in range(0,3):                                              # loop 0 to 2\n",
    "        z = df[ df.Pclass == f+1 ]['Cabin'].dropna().value_counts().index.values[0]#.median().astype(str)\n",
    "        median_fare[f] = z\n",
    "    for f in range(0,3):                                              # loop 0 to 2\n",
    "        df.loc[ (df.Cabin.isnull()) & (df.Pclass == f+1 ), 'Cabin'] = median_fare[f]\n",
    "\n"
   ]
  },
  {
   "cell_type": "code",
   "execution_count": 5,
   "metadata": {
    "collapsed": false
   },
   "outputs": [
    {
     "name": "stderr",
     "output_type": "stream",
     "text": [
      "/home/altock/anaconda3/envs/py35/lib/python3.5/site-packages/ipykernel/__main__.py:2: FutureWarning: convert_objects is deprecated.  Use the data-type specific converters pd.to_datetime, pd.to_timedelta and pd.to_numeric.\n",
      "  from ipykernel import kernelapp as app\n"
     ]
    }
   ],
   "source": [
    "df.drop(['Name', 'PassengerId'], 1, inplace=True)\n",
    "df.convert_objects(convert_numeric=True)\n",
    "df.fillna(0,inplace=True)"
   ]
  },
  {
   "cell_type": "code",
   "execution_count": 6,
   "metadata": {
    "collapsed": false
   },
   "outputs": [
    {
     "data": {
      "text/html": [
       "<div>\n",
       "<table border=\"1\" class=\"dataframe\">\n",
       "  <thead>\n",
       "    <tr style=\"text-align: right;\">\n",
       "      <th></th>\n",
       "      <th>Survived</th>\n",
       "      <th>Pclass</th>\n",
       "      <th>Sex</th>\n",
       "      <th>Age</th>\n",
       "      <th>SibSp</th>\n",
       "      <th>Parch</th>\n",
       "      <th>Ticket</th>\n",
       "      <th>Fare</th>\n",
       "      <th>Cabin</th>\n",
       "      <th>Embarked</th>\n",
       "    </tr>\n",
       "  </thead>\n",
       "  <tbody>\n",
       "    <tr>\n",
       "      <th>count</th>\n",
       "      <td>891.000000</td>\n",
       "      <td>891.000000</td>\n",
       "      <td>891.000000</td>\n",
       "      <td>891.000000</td>\n",
       "      <td>891.000000</td>\n",
       "      <td>891.000000</td>\n",
       "      <td>891.000000</td>\n",
       "      <td>891.000000</td>\n",
       "      <td>891.000000</td>\n",
       "      <td>891.000000</td>\n",
       "    </tr>\n",
       "    <tr>\n",
       "      <th>mean</th>\n",
       "      <td>0.383838</td>\n",
       "      <td>2.308642</td>\n",
       "      <td>0.352413</td>\n",
       "      <td>29.361582</td>\n",
       "      <td>0.523008</td>\n",
       "      <td>0.381594</td>\n",
       "      <td>347.112233</td>\n",
       "      <td>32.204208</td>\n",
       "      <td>3.928171</td>\n",
       "      <td>0.361392</td>\n",
       "    </tr>\n",
       "    <tr>\n",
       "      <th>std</th>\n",
       "      <td>0.486592</td>\n",
       "      <td>0.836071</td>\n",
       "      <td>0.477990</td>\n",
       "      <td>13.019697</td>\n",
       "      <td>1.102743</td>\n",
       "      <td>0.806057</td>\n",
       "      <td>196.504472</td>\n",
       "      <td>49.693429</td>\n",
       "      <td>1.213872</td>\n",
       "      <td>0.635673</td>\n",
       "    </tr>\n",
       "    <tr>\n",
       "      <th>min</th>\n",
       "      <td>0.000000</td>\n",
       "      <td>1.000000</td>\n",
       "      <td>0.000000</td>\n",
       "      <td>0.420000</td>\n",
       "      <td>0.000000</td>\n",
       "      <td>0.000000</td>\n",
       "      <td>0.000000</td>\n",
       "      <td>0.000000</td>\n",
       "      <td>0.000000</td>\n",
       "      <td>0.000000</td>\n",
       "    </tr>\n",
       "    <tr>\n",
       "      <th>25%</th>\n",
       "      <td>0.000000</td>\n",
       "      <td>2.000000</td>\n",
       "      <td>0.000000</td>\n",
       "      <td>22.000000</td>\n",
       "      <td>0.000000</td>\n",
       "      <td>0.000000</td>\n",
       "      <td>179.000000</td>\n",
       "      <td>7.910400</td>\n",
       "      <td>4.000000</td>\n",
       "      <td>0.000000</td>\n",
       "    </tr>\n",
       "    <tr>\n",
       "      <th>50%</th>\n",
       "      <td>0.000000</td>\n",
       "      <td>3.000000</td>\n",
       "      <td>0.000000</td>\n",
       "      <td>28.000000</td>\n",
       "      <td>0.000000</td>\n",
       "      <td>0.000000</td>\n",
       "      <td>360.000000</td>\n",
       "      <td>14.454200</td>\n",
       "      <td>4.000000</td>\n",
       "      <td>0.000000</td>\n",
       "    </tr>\n",
       "    <tr>\n",
       "      <th>75%</th>\n",
       "      <td>1.000000</td>\n",
       "      <td>3.000000</td>\n",
       "      <td>1.000000</td>\n",
       "      <td>35.000000</td>\n",
       "      <td>1.000000</td>\n",
       "      <td>0.000000</td>\n",
       "      <td>516.000000</td>\n",
       "      <td>31.000000</td>\n",
       "      <td>4.000000</td>\n",
       "      <td>1.000000</td>\n",
       "    </tr>\n",
       "    <tr>\n",
       "      <th>max</th>\n",
       "      <td>1.000000</td>\n",
       "      <td>3.000000</td>\n",
       "      <td>1.000000</td>\n",
       "      <td>80.000000</td>\n",
       "      <td>8.000000</td>\n",
       "      <td>6.000000</td>\n",
       "      <td>680.000000</td>\n",
       "      <td>512.329200</td>\n",
       "      <td>7.000000</td>\n",
       "      <td>2.000000</td>\n",
       "    </tr>\n",
       "  </tbody>\n",
       "</table>\n",
       "</div>"
      ],
      "text/plain": [
       "         Survived      Pclass         Sex         Age       SibSp       Parch  \\\n",
       "count  891.000000  891.000000  891.000000  891.000000  891.000000  891.000000   \n",
       "mean     0.383838    2.308642    0.352413   29.361582    0.523008    0.381594   \n",
       "std      0.486592    0.836071    0.477990   13.019697    1.102743    0.806057   \n",
       "min      0.000000    1.000000    0.000000    0.420000    0.000000    0.000000   \n",
       "25%      0.000000    2.000000    0.000000   22.000000    0.000000    0.000000   \n",
       "50%      0.000000    3.000000    0.000000   28.000000    0.000000    0.000000   \n",
       "75%      1.000000    3.000000    1.000000   35.000000    1.000000    0.000000   \n",
       "max      1.000000    3.000000    1.000000   80.000000    8.000000    6.000000   \n",
       "\n",
       "           Ticket        Fare       Cabin    Embarked  \n",
       "count  891.000000  891.000000  891.000000  891.000000  \n",
       "mean   347.112233   32.204208    3.928171    0.361392  \n",
       "std    196.504472   49.693429    1.213872    0.635673  \n",
       "min      0.000000    0.000000    0.000000    0.000000  \n",
       "25%    179.000000    7.910400    4.000000    0.000000  \n",
       "50%    360.000000   14.454200    4.000000    0.000000  \n",
       "75%    516.000000   31.000000    4.000000    1.000000  \n",
       "max    680.000000  512.329200    7.000000    2.000000  "
      ]
     },
     "execution_count": 6,
     "metadata": {},
     "output_type": "execute_result"
    }
   ],
   "source": [
    "df = handle_non_numerical_data(df)\n",
    "df.describe()"
   ]
  },
  {
   "cell_type": "code",
   "execution_count": null,
   "metadata": {
    "collapsed": false
   },
   "outputs": [],
   "source": []
  },
  {
   "cell_type": "code",
   "execution_count": 7,
   "metadata": {
    "collapsed": false
   },
   "outputs": [
    {
     "data": {
      "text/html": [
       "<div>\n",
       "<table border=\"1\" class=\"dataframe\">\n",
       "  <thead>\n",
       "    <tr style=\"text-align: right;\">\n",
       "      <th></th>\n",
       "      <th>Survived</th>\n",
       "      <th>Pclass</th>\n",
       "      <th>Sex</th>\n",
       "      <th>Age</th>\n",
       "      <th>SibSp</th>\n",
       "      <th>Parch</th>\n",
       "      <th>Ticket</th>\n",
       "      <th>Fare</th>\n",
       "      <th>Cabin</th>\n",
       "      <th>Embarked</th>\n",
       "    </tr>\n",
       "  </thead>\n",
       "  <tbody>\n",
       "    <tr>\n",
       "      <th>0</th>\n",
       "      <td>0</td>\n",
       "      <td>3</td>\n",
       "      <td>1</td>\n",
       "      <td>22.0</td>\n",
       "      <td>1</td>\n",
       "      <td>0</td>\n",
       "      <td>588</td>\n",
       "      <td>7.2500</td>\n",
       "      <td>4</td>\n",
       "      <td>1</td>\n",
       "    </tr>\n",
       "    <tr>\n",
       "      <th>1</th>\n",
       "      <td>1</td>\n",
       "      <td>1</td>\n",
       "      <td>0</td>\n",
       "      <td>38.0</td>\n",
       "      <td>1</td>\n",
       "      <td>0</td>\n",
       "      <td>603</td>\n",
       "      <td>71.2833</td>\n",
       "      <td>3</td>\n",
       "      <td>0</td>\n",
       "    </tr>\n",
       "    <tr>\n",
       "      <th>2</th>\n",
       "      <td>1</td>\n",
       "      <td>3</td>\n",
       "      <td>0</td>\n",
       "      <td>26.0</td>\n",
       "      <td>0</td>\n",
       "      <td>0</td>\n",
       "      <td>529</td>\n",
       "      <td>7.9250</td>\n",
       "      <td>4</td>\n",
       "      <td>1</td>\n",
       "    </tr>\n",
       "    <tr>\n",
       "      <th>3</th>\n",
       "      <td>1</td>\n",
       "      <td>1</td>\n",
       "      <td>0</td>\n",
       "      <td>35.0</td>\n",
       "      <td>1</td>\n",
       "      <td>0</td>\n",
       "      <td>660</td>\n",
       "      <td>53.1000</td>\n",
       "      <td>3</td>\n",
       "      <td>1</td>\n",
       "    </tr>\n",
       "    <tr>\n",
       "      <th>4</th>\n",
       "      <td>0</td>\n",
       "      <td>3</td>\n",
       "      <td>1</td>\n",
       "      <td>35.0</td>\n",
       "      <td>0</td>\n",
       "      <td>0</td>\n",
       "      <td>177</td>\n",
       "      <td>8.0500</td>\n",
       "      <td>4</td>\n",
       "      <td>1</td>\n",
       "    </tr>\n",
       "  </tbody>\n",
       "</table>\n",
       "</div>"
      ],
      "text/plain": [
       "   Survived  Pclass  Sex   Age  SibSp  Parch  Ticket     Fare  Cabin  Embarked\n",
       "0         0       3    1  22.0      1      0     588   7.2500      4         1\n",
       "1         1       1    0  38.0      1      0     603  71.2833      3         0\n",
       "2         1       3    0  26.0      0      0     529   7.9250      4         1\n",
       "3         1       1    0  35.0      1      0     660  53.1000      3         1\n",
       "4         0       3    1  35.0      0      0     177   8.0500      4         1"
      ]
     },
     "execution_count": 7,
     "metadata": {},
     "output_type": "execute_result"
    }
   ],
   "source": [
    "\n",
    "df.head()"
   ]
  },
  {
   "cell_type": "code",
   "execution_count": 7,
   "metadata": {
    "collapsed": false
   },
   "outputs": [
    {
     "name": "stdout",
     "output_type": "stream",
     "text": [
      "(891, 9)\n",
      "(891, 9)\n"
     ]
    }
   ],
   "source": [
    "X = np.array(df.drop(['Survived'], 1).astype(float))\n",
    "print(X.shape)\n",
    "# enc = OneHotEncoder(categorical_features=np.array([True,True,False,False,False,False,True]))#[0,1,4,6])\n",
    "# X = enc.fit_transform(X)\n",
    "\n",
    "\n",
    "print(X.shape)\n",
    "X = preprocessing.scale(X, with_mean=False)\n",
    "y = np.array(df['Survived'])\n",
    "\n",
    "\n",
    "\n",
    "\n",
    "\n",
    "X_train, X_test, y_train, y_test =train_test_split(X,y,test_size=0.2)"
   ]
  },
  {
   "cell_type": "code",
   "execution_count": 9,
   "metadata": {
    "collapsed": false
   },
   "outputs": [],
   "source": [
    "# clf = KMeans(n_clusters=2)\n",
    "# clf.fit(X_train)\n",
    "\n",
    "# correct = 0\n",
    "# for i in range(len(X_test)):\n",
    "#     predict_me = np.array(X[i].astype(float))\n",
    "#     predict_me = predict_me.reshape(-1, len(predict_me))\n",
    "#     prediction = clf.predict(predict_me)\n",
    "#     if prediction[0] == y_test[i]:\n",
    "#         correct += 1\n",
    "\n",
    "# predict = correct/len(X_test)\n",
    "# print(max(1- predict, predict))"
   ]
  },
  {
   "cell_type": "code",
   "execution_count": 8,
   "metadata": {
    "collapsed": false
   },
   "outputs": [
    {
     "name": "stdout",
     "output_type": "stream",
     "text": [
      "   Survived  Pclass  Sex   Age  SibSp  Parch  Ticket     Fare  Cabin  Embarked\n",
      "0         0       3    0  22.0      1      0     461   7.2500      4         0\n",
      "1         1       1    1  38.0      1      0     403  71.2833      5         1\n",
      "2         1       3    1  26.0      0      0     172   7.9250      4         0\n",
      "3         1       1    1  35.0      1      0     332  53.1000      5         0\n",
      "4         0       3    0  35.0      0      0     208   8.0500      4         0\n",
      "   Pclass  Sex   Age  SibSp  Parch  Ticket     Fare  Cabin  Embarked\n",
      "0       3    0  34.5      0      0     192   7.8292      0         2\n",
      "1       3    1  47.0      1      0       1   7.0000      0         0\n",
      "2       2    0  62.0      0      0      74   9.6875      0         2\n",
      "3       3    0  27.0      0      0      67   8.6625      0         0\n",
      "4       3    1  22.0      1      1      93  12.2875      0         0\n",
      "(418, 9)\n"
     ]
    },
    {
     "name": "stderr",
     "output_type": "stream",
     "text": [
      "/home/altock/anaconda3/envs/py35/lib/python3.5/site-packages/ipykernel/__main__.py:44: FutureWarning: convert_objects is deprecated.  Use the data-type specific converters pd.to_datetime, pd.to_timedelta and pd.to_numeric.\n"
     ]
    }
   ],
   "source": [
    "df_test = pd.read_csv('data/test.csv')\n",
    "\n",
    "PassengerId = df_test['PassengerId'].values\n",
    "\n",
    "\n",
    "# Deal with empty\n",
    "\n",
    "# All missing Embarked -> just make them embark from most common place\n",
    "if len(df_test.Embarked[ df_test.Embarked.isnull() ]) > 0:\n",
    "    df_test.Embarked[ df_test.Embarked.isnull() ] = df_test.Embarked.dropna().mode().values\n",
    "\n",
    "# All the ages with no data -> make the median of all Ages\n",
    "median_age = df_test['Age'].dropna().median()\n",
    "if len(df_test.Age[ df_test.Age.isnull() ]) > 0:\n",
    "    df_test.loc[ (df_test.Age.isnull()), 'Age'] = median_age\n",
    "\n",
    "\n",
    "# All the missing Fares -> assume median of their respective class\n",
    "if len(df_test.Fare[ df_test.Fare.isnull() ]) > 0:\n",
    "    median_fare = np.zeros(3)\n",
    "    for f in range(0,3):                                              # loop 0 to 2\n",
    "        median_fare[f] = df_test[ df_test.Pclass == f+1 ]['Fare'].dropna().median()\n",
    "    for f in range(0,3):                                              # loop 0 to 2\n",
    "        df_test.loc[ (df_test.Fare.isnull()) & (df_test.Pclass == f+1 ), 'Fare'] = median_fare[f]\n",
    "\n",
    "# # Assume room number on floor does not matter, change cabin to just be the floor\n",
    "# df_test.Cabin[ df_test.Cabin.notnull()] = df_test.Cabin[ df_test.Cabin.notnull()].str[0]\n",
    "\n",
    "        \n",
    "# # All the missing Cabins -> assume median of their respective class\n",
    "# if len(df_test.Cabin[ df_test.Cabin.isnull() ]) > 0:\n",
    "#     median_fare = [\"\",\"\",\"\"]\n",
    "#     for f in range(0,3):                                              # loop 0 to 2\n",
    "#         z = df_test[ df_test.Pclass == f+1 ]['Cabin'].dropna().value_counts().index.values[0]#.median().astype(str)\n",
    "#         median_fare[f] = z\n",
    "#     for f in range(0,3):                                              # loop 0 to 2\n",
    "#         df_test.loc[ (df_test.Cabin.isnull()) & (df_test.Pclass == f+1 ), 'Cabin'] = median_fare[f]\n",
    "\n",
    "\n",
    "\n",
    "\n",
    "\n",
    "df_test.drop(['Name', 'PassengerId'], 1, inplace=True)\n",
    "df_test.convert_objects(convert_numeric=True)\n",
    "df_test.fillna(0,inplace=True)\n",
    "\n",
    "\n",
    "\n",
    "\n",
    "df_test = handle_non_numerical_data(df_test)\n",
    "print(df.head())\n",
    "print(df_test.head())\n",
    "X_valid = np.array(df_test.astype(float))\n",
    "\n",
    "# enc = OneHotEncoder(categorical_features=np.array([True,True,False,False,False,False,True]))#[0,1,4,6])\n",
    "# X_valid = enc.fit_transform(X_valid)\n",
    "\n",
    "X_valid = preprocessing.scale(X_valid, with_mean = False)\n",
    "print(X_valid.shape)"
   ]
  },
  {
   "cell_type": "code",
   "execution_count": 11,
   "metadata": {
    "collapsed": false
   },
   "outputs": [
    {
     "name": "stdout",
     "output_type": "stream",
     "text": [
      "0.870786516854 0.793296089385\n"
     ]
    }
   ],
   "source": [
    "clf = BaggingClassifier( neighbors.KNeighborsClassifier(n_jobs=-1))\n",
    "clf.fit(X_train, y_train)\n",
    "train_accuracy = clf.score(X_train, y_train)\n",
    "test_accuracy = clf.score(X_test, y_test)\n",
    "print(train_accuracy, test_accuracy)"
   ]
  },
  {
   "cell_type": "code",
   "execution_count": 20,
   "metadata": {
    "collapsed": false
   },
   "outputs": [
    {
     "name": "stdout",
     "output_type": "stream",
     "text": [
      "{'C': 1, 'kernel': 'rbf', 'gamma': 0.001}\n",
      "0.839 (+/-0.120) for {'C': 1, 'kernel': 'rbf', 'gamma': 0.001}\n",
      "0.767 (+/-0.178) for {'C': 1, 'kernel': 'rbf', 'gamma': 0.01}\n",
      "0.834 (+/-0.275) for {'C': 1, 'kernel': 'rbf', 'gamma': 0.001}\n",
      "0.756 (+/-0.210) for {'C': 2, 'kernel': 'rbf', 'gamma': 0.001}\n",
      "0.767 (+/-0.219) for {'C': 2, 'kernel': 'rbf', 'gamma': 0.01}\n",
      "0.753 (+/-0.181) for {'C': 2, 'kernel': 'rbf', 'gamma': 0.001}\n",
      "0.754 (+/-0.150) for {'C': 5, 'kernel': 'rbf', 'gamma': 0.001}\n",
      "0.773 (+/-0.161) for {'C': 5, 'kernel': 'rbf', 'gamma': 0.01}\n",
      "0.759 (+/-0.193) for {'C': 5, 'kernel': 'rbf', 'gamma': 0.001}\n",
      "0.765 (+/-0.212) for {'C': 10, 'kernel': 'rbf', 'gamma': 0.001}\n",
      "0.779 (+/-0.102) for {'C': 10, 'kernel': 'rbf', 'gamma': 0.01}\n",
      "0.755 (+/-0.068) for {'C': 10, 'kernel': 'rbf', 'gamma': 0.001}\n",
      "0.757 (+/-0.088) for {'C': 20, 'kernel': 'rbf', 'gamma': 0.001}\n",
      "0.798 (+/-0.170) for {'C': 20, 'kernel': 'rbf', 'gamma': 0.01}\n",
      "0.760 (+/-0.105) for {'C': 20, 'kernel': 'rbf', 'gamma': 0.001}\n",
      "Detailed classification report:\n",
      "\n",
      "The model is trained on the full development set.\n",
      "The scores are computed on the full evaluation set.\n",
      "\n",
      "             precision    recall  f1-score   support\n",
      "\n",
      "          0       0.83      0.90      0.87       121\n",
      "          1       0.75      0.62      0.68        58\n",
      "\n",
      "avg / total       0.81      0.81      0.80       179\n",
      "\n",
      "\n"
     ]
    }
   ],
   "source": [
    "\n",
    "# param_grid = [\n",
    "#   {'C': [1,2,5,10,20], 'gamma': [0.001, .01, .001], 'kernel': ['rbf']}]\n",
    "\n",
    "# X_train, X_test, y_train, y_test = train_test_split(X,y,test_size=0.2)\n",
    "\n",
    "# num_folds = 10\n",
    "# num_instances = len(y_train)\n",
    "\n",
    "# kfold = KFold( n_splits=num_folds, shuffle=True)\n",
    "\n",
    "\n",
    "# clf = GridSearchCV(svm.SVC(C=1), param_grid, cv=kfold, scoring='precision')\n",
    "# clf.fit(X_train, y_train)\n",
    "\n",
    "# print(clf.best_params_)\n",
    "# means = clf.cv_results_['mean_test_score']\n",
    "# stds = clf.cv_results_['std_test_score']\n",
    "# for mean, std, params in zip(means, stds, clf.cv_results_['params']):\n",
    "#         print(\"%0.3f (+/-%0.03f) for %r\"\n",
    "#               % (mean, std * 2, params))\n",
    "\n",
    "# print(\"Detailed classification report:\")\n",
    "# print()\n",
    "# print(\"The model is trained on the full development set.\")\n",
    "# print(\"The scores are computed on the full evaluation set.\")\n",
    "# print()\n",
    "# y_true, y_pred = y_test, clf.predict(X_test)\n",
    "# print(classification_report(y_true, y_pred))\n",
    "# print()"
   ]
  },
  {
   "cell_type": "code",
   "execution_count": 22,
   "metadata": {
    "collapsed": false
   },
   "outputs": [
    {
     "name": "stdout",
     "output_type": "stream",
     "text": [
      "poly : train accuracy 0.619382022472 , test accuracy 0.603351955307\n",
      "linear : train accuracy 0.794943820225 , test accuracy 0.810055865922\n",
      "rbf : train accuracy 0.77808988764 , test accuracy 0.787709497207\n",
      "[ 0.7877095   0.60335196  0.81005587  0.82681564]\n",
      "0.7932960893854749\n"
     ]
    }
   ],
   "source": [
    "\n",
    "# svm_kernels = [\"poly\", \"linear\", \"rbf\"]\n",
    "# accuracies = {x : [0.0,0.0, [],[]]  for x in svm_kernels}\n",
    "\n",
    "\n",
    "# X_train, X_test, y_train, y_test = train_test_split(X,y,test_size=0.2)\n",
    "\n",
    "# mat = []\n",
    "# for kernel in svm_kernels:\n",
    "#     clf = BaggingClassifier(svm.SVC(kernel=kernel, C = 1, gamma = 0.001))\n",
    "#     clf.fit(X_train, y_train)\n",
    "        \n",
    "        \n",
    "#     accuracies[kernel][0] += clf.score(X_train, y_train)\n",
    "#     accuracies[kernel][1] += clf.score(X_test, y_test)\n",
    "    \n",
    "#     accuracies[kernel][2] = clf.predict(X_train)\n",
    "#     accuracies[kernel][3] = clf.predict(X_test)\n",
    "\n",
    "#     print(kernel, \": train accuracy\", accuracies[kernel][0], \", test accuracy\", accuracies[kernel][1])\n",
    "#     mat.append(np.array(accuracies[kernel][3]))\n",
    "# # mat = [np.array(x[2]) for x in accuracies]\n",
    "\n",
    "# forest = RandomForestClassifier(n_estimators=200)\n",
    "# forest = forest.fit( X_train, y_train )\n",
    "\n",
    "\n",
    "# test_output = forest.predict( X_test).astype(int)\n",
    "# accuracy = forest.score(X_test,y_test)\n",
    "\n",
    "\n",
    "# weights = np.array([x[1] for x in accuracies.values()])\n",
    "# weights = np.append(weights,accuracy)\n",
    "# mat.append(test_output)\n",
    "# print(weights)\n",
    "# mat = np.matrix(mat)\n",
    "\n",
    "# mat = np.array(np.average(mat, axis = 0, weights = weights)) #basically mode\n",
    "# mat = np.round(mat[0])\n",
    "\n",
    "# correct = 0\n",
    "\n",
    "# for i in range(len(X_test)):\n",
    "#     prediction = mat[i]\n",
    "#     if prediction == y_test[i]:\n",
    "#         correct += 1\n",
    "# print(correct/len(X_test))"
   ]
  },
  {
   "cell_type": "code",
   "execution_count": null,
   "metadata": {
    "collapsed": false
   },
   "outputs": [],
   "source": []
  },
  {
   "cell_type": "code",
   "execution_count": null,
   "metadata": {
    "collapsed": false
   },
   "outputs": [],
   "source": [
    "\n"
   ]
  },
  {
   "cell_type": "code",
   "execution_count": 24,
   "metadata": {
    "collapsed": false
   },
   "outputs": [],
   "source": [
    "# train_accuracy = 0.0\n",
    "# test_accuracy = 0.0\n",
    "# n= 10\n",
    "# for i in range(n):\n",
    "#     X_train, X_test, y_train, y_test = train_test_split(X,y,test_size=0.2)\n",
    "        \n",
    "#     forest = GradientBoostingClassifier(n_estimators=200)# RandomForestClassifier(n_estimators=200,n_jobs=-1)\n",
    "#     forest = forest.fit( X_train, y_train )\n",
    "\n",
    "\n",
    "#     test_output = forest.predict( X_test).astype(int)\n",
    "#     correct = 0\n",
    "#     for i in range(len(y_test)):\n",
    "#         prediction = test_output[i]\n",
    "#         if prediction == y_test[i]:\n",
    "#             correct += 1\n",
    "\n",
    "#     test_predict = correct/len(y_test)\n",
    "#     test_accuracy += test_predict\n",
    "    \n",
    "    \n",
    "#     train_output = forest.predict( X_train).astype(int)\n",
    "#     correct = 0\n",
    "#     for i in range(len(y_train)):\n",
    "#         prediction = train_output[i]\n",
    "#         if prediction == y_train[i]:\n",
    "#             correct += 1\n",
    "\n",
    "#     train_predict = correct/len(y_train)\n",
    "#     train_accuracy += train_predict\n",
    "# test_accuracy /= n\n",
    "# train_accuracy /= n\n",
    "# print(\"train accuracy:\", train_accuracy, \", test accuracy:\", test_accuracy)"
   ]
  },
  {
   "cell_type": "code",
   "execution_count": null,
   "metadata": {
    "collapsed": false
   },
   "outputs": [
    {
     "name": "stdout",
     "output_type": "stream",
     "text": [
      "train accuracy 0: 0.9009247027741083 , test accuracy: 0.8283582089552238\n"
     ]
    }
   ],
   "source": [
    "train_accuracy = 0.0\n",
    "test_accuracy = 0.0\n",
    "n = 10\n",
    "for i in range(n):\n",
    "    X_train, X_test, y_train, y_test = train_test_split(X,y,test_size=0.15)\n",
    "        \n",
    "    clf = get_prediction_new(X,y)# RandomForestClassifier(n_estimators=1500,n_jobs=-1, max_features='auto') #svm.SVC(kernel='rbf',C=10000,gamma=0.001)\n",
    "    clf.fit(X_train,y_train)\n",
    "\n",
    "\n",
    "    test_output = clf.predict( X_test).astype(int)\n",
    "    correct = 0\n",
    "    for j in range(len(y_test)):\n",
    "        prediction = test_output[j]\n",
    "        if prediction == y_test[j]:\n",
    "            correct += 1\n",
    "\n",
    "    test_predict = correct/len(y_test)\n",
    "    test_accuracy += test_predict\n",
    "    \n",
    "    \n",
    "    train_output = clf.predict( X_train).astype(int)\n",
    "    correct = 0\n",
    "    for j in range(len(y_train)):\n",
    "        prediction = train_output[j]\n",
    "        if prediction == y_train[j]:\n",
    "            correct += 1\n",
    "\n",
    "    train_predict = correct/len(y_train)\n",
    "    train_accuracy += train_predict\n",
    "    \n",
    "    print(\"train accuracy \" + str(i) +\":\", train_predict, \", test accuracy:\", test_predict)\n",
    "test_accuracy /= n\n",
    "train_accuracy /= n\n",
    "print(\"train accuracy:\", train_accuracy, \", test accuracy:\", test_accuracy)"
   ]
  },
  {
   "cell_type": "code",
   "execution_count": 39,
   "metadata": {
    "collapsed": false
   },
   "outputs": [
    {
     "name": "stdout",
     "output_type": "stream",
     "text": [
      "Done.\n"
     ]
    }
   ],
   "source": [
    "forest =  RandomForestClassifier(n_estimators=400,n_jobs=-1, criterion='entropy',max_depth=7, max_features='auto')\n",
    "forest = forest.fit( X, y )\n",
    "output = forest.predict(X_valid)\n",
    "\n",
    "\n",
    "predictions_file = open(\"data/titanic_RandForest1.csv\", \"w\")\n",
    "open_file_object = csv.writer(predictions_file)\n",
    "open_file_object.writerow([\"PassengerId\",\"Survived\"])\n",
    "open_file_object.writerows(zip(PassengerId, output))\n",
    "predictions_file.close()\n",
    "print('Done.')"
   ]
  },
  {
   "cell_type": "code",
   "execution_count": null,
   "metadata": {
    "collapsed": false
   },
   "outputs": [],
   "source": [
    "clf = svm.SVC(kernel='rbf',C=10000,gamma=0.001)\n",
    "clf.fit(X,y)\n",
    "output = clf.predict(X_valid)\n",
    "\n",
    "\n",
    "predictions_file = open(\"data/titanicSVM4.csv\", \"w\")\n",
    "open_file_object = csv.writer(predictions_file)\n",
    "open_file_object.writerow([\"PassengerId\",\"Survived\"])\n",
    "open_file_object.writerows(zip(PassengerId, output))\n",
    "predictions_file.close()\n",
    "print('Done.')"
   ]
  },
  {
   "cell_type": "code",
   "execution_count": 35,
   "metadata": {
    "collapsed": false
   },
   "outputs": [
    {
     "name": "stderr",
     "output_type": "stream",
     "text": [
      "/home/altock/anaconda3/envs/py35/lib/python3.5/site-packages/sklearn/metrics/classification.py:1113: UndefinedMetricWarning: F-score is ill-defined and being set to 0.0 due to no predicted samples.\n",
      "  'precision', 'predicted', average, warn_for)\n",
      "/home/altock/anaconda3/envs/py35/lib/python3.5/site-packages/sklearn/metrics/classification.py:1113: UndefinedMetricWarning: F-score is ill-defined and being set to 0.0 due to no predicted samples.\n",
      "  'precision', 'predicted', average, warn_for)\n"
     ]
    },
    {
     "name": "stdout",
     "output_type": "stream",
     "text": [
      "{'C': 100}\n",
      "0.120 (+/-0.167) for {'C': 0.001}\n",
      "0.640 (+/-0.072) for {'C': 0.01}\n",
      "0.709 (+/-0.102) for {'C': 0.1}\n",
      "0.725 (+/-0.122) for {'C': 1}\n",
      "0.741 (+/-0.108) for {'C': 10}\n",
      "0.743 (+/-0.116) for {'C': 100}\n",
      "0.743 (+/-0.116) for {'C': 1000}\n",
      "Detailed classification report:\n",
      "\n",
      "The model is trained on the full development set.\n",
      "The scores are computed on the full evaluation set.\n",
      "\n",
      "             precision    recall  f1-score   support\n",
      "\n",
      "          0       0.87      0.83      0.85       120\n",
      "          1       0.69      0.75      0.72        59\n",
      "\n",
      "avg / total       0.81      0.80      0.81       179\n",
      "\n",
      "\n"
     ]
    }
   ],
   "source": [
    "\n",
    "param_grid = [\n",
    "  {'C': [0.001,0.01,0.1,1,10,100,1000]}]\n",
    "\n",
    "X_train, X_test, y_train, y_test = train_test_split(X,y,test_size=0.2)\n",
    "\n",
    "num_folds = 10\n",
    "\n",
    "kfold = KFold( n_splits=num_folds)\n",
    "\n",
    "\n",
    "clf = GridSearchCV(LogisticRegression(n_jobs=-1), param_grid, cv=kfold, scoring='f1')\n",
    "clf.fit(X_train, y_train)\n",
    "\n",
    "print(clf.best_params_)\n",
    "means = clf.cv_results_['mean_test_score']\n",
    "stds = clf.cv_results_['std_test_score']\n",
    "for mean, std, params in zip(means, stds, clf.cv_results_['params']):\n",
    "        print(\"%0.3f (+/-%0.03f) for %r\"\n",
    "              % (mean, std * 2, params))\n",
    "\n",
    "print(\"Detailed classification report:\")\n",
    "print()\n",
    "print(\"The model is trained on the full development set.\")\n",
    "print(\"The scores are computed on the full evaluation set.\")\n",
    "print()\n",
    "y_true, y_pred = y_test, clf.predict(X_test)\n",
    "print(classification_report(y_true, y_pred))\n",
    "print()"
   ]
  },
  {
   "cell_type": "code",
   "execution_count": 52,
   "metadata": {
    "collapsed": false
   },
   "outputs": [],
   "source": [
    "train_sizes, train_scores, valid_scores = learning_curve(LogisticRegression(C=10), X, y, cv=5)\n",
    "\n",
    "train_scores = np.average(train_scores, axis = 1)\n",
    "valid_scores = np.average(valid_scores, axis = 1)\n",
    "\n",
    "plt.scatter(train_sizes,train_scores, s=100, c='r')\n",
    "plt.scatter(train_sizes,valid_scores, s=100, c='b')\n",
    "plt.show()"
   ]
  },
  {
   "cell_type": "code",
   "execution_count": 60,
   "metadata": {
    "collapsed": false
   },
   "outputs": [
    {
     "data": {
      "image/png": "[encoded data removed]",
      "text/plain": [
       "<matplotlib.figure.Figure at 0x7fc66473e358>"
      ]
     },
     "metadata": {},
     "output_type": "display_data"
    }
   ],
   "source": [
    "train_sizes, train_scores, valid_scores = learning_curve(svm.SVC(kernel=\"rbf\", C = 1, gamma = 0.001), X, y, cv=5)\n",
    "\n",
    "train_scores = np.average(train_scores, axis = 1)\n",
    "valid_scores = np.average(valid_scores, axis = 1)\n",
    "\n",
    "plt.scatter(train_sizes,train_scores, s=100, c='r')\n",
    "plt.scatter(train_sizes,valid_scores, s=100, c='b')\n",
    "plt.show()"
   ]
  },
  {
   "cell_type": "code",
   "execution_count": 90,
   "metadata": {
    "collapsed": false
   },
   "outputs": [],
   "source": [
    "def get_prediction_new(X,y):\n",
    "    num_folds = 10\n",
    "\n",
    "    kfold = KFold(n_splits=num_folds)\n",
    "    # create the sub models\n",
    "    estimators = []\n",
    "    model1 = LogisticRegressionCV()\n",
    "    estimators.append(('logistic', model1))\n",
    "    \n",
    "    model3 = svm.SVC(C=1, gamma=0.001, probability=True)\n",
    "    estimators.append(('svm rbf', model3))\n",
    "    model4 = BaggingClassifier(svm.SVC(kernel='poly',C=2))\n",
    "#     estimators.append(('svm poly', model4))\n",
    "    forest = GradientBoostingClassifier(n_estimators=400)\n",
    "    \n",
    "    estimators.append((('grad_forest'),forest))\n",
    "\n",
    "    forest = RandomForestClassifier(n_estimators=1500,n_jobs=-1,max_depth=7, max_features='auto')\n",
    "    \n",
    "    estimators.append((('forest'),forest))\n",
    "    \n",
    "    forest =RandomForestClassifier(n_estimators=500,n_jobs=-1, criterion='entropy',max_depth=7, max_features='auto')\n",
    "    \n",
    "    estimators.append((('ent_forest'),forest))\n",
    "    \n",
    "#     forest =RandomForestClassifier(n_estimators=500,n_jobs=-1, criterion='entropy',max_depth=7, max_features='auto')\n",
    "    \n",
    "#     estimators.append((('ent_forest'),forest))\n",
    "#     clf = BaggingClassifier(neighbors.KNeighborsClassifier(n_jobs=-1))\n",
    "#     estimators.append(('KNN',clf))\n",
    "    # create the ensemble model\n",
    "    ensemble = VotingClassifier(estimators, voting=\"soft\")\n",
    "#     results = cross_val_score(ensemble, X, y, cv=kfold)\n",
    "#     print(results.mean())\n",
    "\n",
    "    return ensemble"
   ]
  },
  {
   "cell_type": "code",
   "execution_count": 67,
   "metadata": {
    "collapsed": false
   },
   "outputs": [
    {
     "data": {
      "image/png": "[encoded data removed]",
      "text/plain": [
       "<matplotlib.figure.Figure at 0x7efe232e55f8>"
      ]
     },
     "metadata": {},
     "output_type": "display_data"
    }
   ],
   "source": [
    "train_sizes, train_scores, valid_scores = learning_curve(get_prediction_new(X,y), X, y, cv=5)\n",
    "\n",
    "train_scores = np.average(train_scores, axis = 1)\n",
    "valid_scores = np.average(valid_scores, axis = 1)\n",
    "\n",
    "\n",
    "plt.plot(train_sizes,train_scores, c='r',  marker='o',)\n",
    "plt.plot(train_sizes,valid_scores, c='b',  marker='o',)\n",
    "plt.show()"
   ]
  },
  {
   "cell_type": "code",
   "execution_count": 42,
   "metadata": {
    "collapsed": false
   },
   "outputs": [
    {
     "data": {
      "image/png": "[encoded data removed]",
      "text/plain": [
       "<matplotlib.figure.Figure at 0x7efe50a92ac8>"
      ]
     },
     "metadata": {},
     "output_type": "display_data"
    }
   ],
   "source": [
    "clf = RandomForestClassifier(n_estimators=400,n_jobs=-1, criterion='entropy',max_depth=7, max_features='auto')\n",
    "\n",
    "train_sizes, train_scores, valid_scores = learning_curve(clf, X, y, cv=5)\n",
    "\n",
    "train_scores = np.average(train_scores, axis = 1)\n",
    "valid_scores = np.average(valid_scores, axis = 1)\n",
    "\n",
    "\n",
    "plt.plot(train_sizes,train_scores, c='r',  marker='o',)\n",
    "plt.plot(train_sizes,valid_scores, c='b',  marker='o',)\n",
    "plt.show()"
   ]
  },
  {
   "cell_type": "code",
   "execution_count": 87,
   "metadata": {
    "collapsed": false
   },
   "outputs": [
    {
     "data": {
      "image/png": "[encoded data removed]",
      "text/plain": [
       "<matplotlib.figure.Figure at 0x7efe23298ba8>"
      ]
     },
     "metadata": {},
     "output_type": "display_data"
    }
   ],
   "source": [
    "train_sizes, train_scores, valid_scores = learning_curve(get_prediction_new(X,y), X, y, cv=5)\n",
    "\n",
    "train_scores = np.average(train_scores, axis = 1)\n",
    "valid_scores = np.average(valid_scores, axis = 1)\n",
    "\n",
    "\n",
    "plt.plot(train_sizes,train_scores, c='r',  marker='o',)\n",
    "plt.plot(train_sizes,valid_scores, c='b',  marker='o',)\n",
    "plt.show()"
   ]
  },
  {
   "cell_type": "code",
   "execution_count": null,
   "metadata": {
    "collapsed": true
   },
   "outputs": [],
   "source": []
  }
 ],
 "metadata": {
  "kernelspec": {
   "display_name": "Python 3",
   "language": "python",
   "name": "python3"
  },
  "language_info": {
   "codemirror_mode": {
    "name": "ipython",
    "version": 3
   },
   "file_extension": ".py",
   "mimetype": "text/x-python",
   "name": "python",
   "nbconvert_exporter": "python",
   "pygments_lexer": "ipython3",
   "version": "3.5.2"
  }
 },
 "nbformat": 4,
 "nbformat_minor": 0
}
